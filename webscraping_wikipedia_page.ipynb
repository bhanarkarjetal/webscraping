{
 "cells": [
  {
   "cell_type": "code",
   "execution_count": 85,
   "id": "c3e87356-5840-4491-a67e-440634ac0dc5",
   "metadata": {},
   "outputs": [],
   "source": [
    "# webscrapping a wikipedia page (largest companies in the United States by revenue)"
   ]
  },
  {
   "cell_type": "markdown",
   "id": "7de6d466-f9ce-46f9-b63d-54267c4ac57e",
   "metadata": {},
   "source": [
    "### Importing libraries"
   ]
  },
  {
   "cell_type": "code",
   "execution_count": 74,
   "id": "407f56a8-7619-4e36-975a-1ac8ee4dccca",
   "metadata": {},
   "outputs": [],
   "source": [
    "import pandas as pd\n",
    "import lxml\n",
    "from bs4 import BeautifulSoup\n",
    "import requests"
   ]
  },
  {
   "cell_type": "markdown",
   "id": "9dad7685-d5e4-4615-a8a0-a01d5929be12",
   "metadata": {},
   "source": [
    "### Getting a webpage from wikipedia"
   ]
  },
  {
   "cell_type": "code",
   "execution_count": 4,
   "id": "24e2a8ce-44d2-4b0a-8739-a080f6dd1346",
   "metadata": {},
   "outputs": [],
   "source": [
    "url = 'https://en.wikipedia.org/wiki/List_of_largest_companies_in_the_United_States_by_revenue'\n",
    "content = requests.get(url).text\n",
    "soup = BeautifulSoup(content,'lxml')"
   ]
  },
  {
   "cell_type": "markdown",
   "id": "0abfee8f-bb07-4a87-92b0-e8183bcbe96a",
   "metadata": {},
   "source": [
    "### Getting table details"
   ]
  },
  {
   "cell_type": "code",
   "execution_count": 76,
   "id": "00ffe849-9fbe-4f03-b36a-94175dd15f51",
   "metadata": {},
   "outputs": [
    {
     "name": "stdout",
     "output_type": "stream",
     "text": [
      "['Rank', 'Name', 'Industry', 'Revenue (USD millions)', 'Revenue growth', 'Employees', 'Headquarters']\n",
      "['rank', 'name', 'industry', 'revenue_usd_millions', 'revenue_growth', 'employees', 'headquarters']\n"
     ]
    }
   ],
   "source": [
    "# getting the main table from thge webpage\n",
    "table_companies = soup.find('table', class_ = 'wikitable')\n",
    "\n",
    "# getting header names/ column names\n",
    "table_body = table_companies.find('tbody')\n",
    "table_header = table_body.find_all('th')\n",
    "column_names = []\n",
    "for head in table_header:\n",
    "    column = head.text.strip()\n",
    "    column_names.append(column)\n",
    "print(column_names)\n",
    "\n",
    "# cleaning column names\n",
    "col_names = [col_names.lower().replace(' ','_').replace('(','').replace(')','').strip() for col_names in column_names]\n",
    "print(col_names)"
   ]
  },
  {
   "cell_type": "code",
   "execution_count": 86,
   "id": "7f7db95e-25a9-4696-97b6-da6ff42bf63a",
   "metadata": {},
   "outputs": [
    {
     "name": "stdout",
     "output_type": "stream",
     "text": [
      "1\n",
      "Walmart\n",
      "Retail\n",
      "648,125\n",
      "6.0%\n",
      "2,100,000\n",
      "Bentonville, Arkansas\n"
     ]
    }
   ],
   "source": [
    "table_rows = table_body.find_all('tr')\n",
    "\n",
    "# the first row is the column name\n",
    "# row[1] onwards, we get company details\n",
    "# for first company 'walmart':\n",
    "walmart = table_rows[1].find_all('td')\n",
    "for details in walmart:\n",
    "    print(details.text.strip())"
   ]
  },
  {
   "cell_type": "code",
   "execution_count": 78,
   "id": "5e584e1e-0f5c-4509-ad4e-49dec0943944",
   "metadata": {},
   "outputs": [],
   "source": [
    "# creating a dictionary with column names and company details\n",
    "final_table = []\n",
    "for data1 in table_rows[1:]:\n",
    "    row_data = []\n",
    "    for data2 in data1.find_all('td'):\n",
    "        row_data.append(data2.text.strip())\n",
    "    final_table.append(dict(zip(col_names,row_data)))"
   ]
  },
  {
   "cell_type": "markdown",
   "id": "de5468f3-afcb-4984-a9e5-520dd6bc5362",
   "metadata": {},
   "source": [
    "### Creating a dataframe using Pandas"
   ]
  },
  {
   "cell_type": "code",
   "execution_count": 79,
   "id": "7d5f3985-0990-492c-a123-6ad374d6e71e",
   "metadata": {},
   "outputs": [
    {
     "data": {
      "text/html": [
       "<div>\n",
       "<style scoped>\n",
       "    .dataframe tbody tr th:only-of-type {\n",
       "        vertical-align: middle;\n",
       "    }\n",
       "\n",
       "    .dataframe tbody tr th {\n",
       "        vertical-align: top;\n",
       "    }\n",
       "\n",
       "    .dataframe thead th {\n",
       "        text-align: right;\n",
       "    }\n",
       "</style>\n",
       "<table border=\"1\" class=\"dataframe\">\n",
       "  <thead>\n",
       "    <tr style=\"text-align: right;\">\n",
       "      <th></th>\n",
       "      <th>rank</th>\n",
       "      <th>name</th>\n",
       "      <th>industry</th>\n",
       "      <th>revenue_usd_millions</th>\n",
       "      <th>revenue_growth</th>\n",
       "      <th>employees</th>\n",
       "      <th>headquarters</th>\n",
       "    </tr>\n",
       "  </thead>\n",
       "  <tbody>\n",
       "    <tr>\n",
       "      <th>0</th>\n",
       "      <td>1</td>\n",
       "      <td>Walmart</td>\n",
       "      <td>Retail</td>\n",
       "      <td>648,125</td>\n",
       "      <td>6.0%</td>\n",
       "      <td>2,100,000</td>\n",
       "      <td>Bentonville, Arkansas</td>\n",
       "    </tr>\n",
       "    <tr>\n",
       "      <th>1</th>\n",
       "      <td>2</td>\n",
       "      <td>Amazon</td>\n",
       "      <td>Retail and cloud computing</td>\n",
       "      <td>574,785</td>\n",
       "      <td>11.9%</td>\n",
       "      <td>1,525,000</td>\n",
       "      <td>Seattle, Washington</td>\n",
       "    </tr>\n",
       "    <tr>\n",
       "      <th>2</th>\n",
       "      <td>3</td>\n",
       "      <td>Apple</td>\n",
       "      <td>Electronics industry</td>\n",
       "      <td>383,482</td>\n",
       "      <td>-2.8%</td>\n",
       "      <td>161,000</td>\n",
       "      <td>Cupertino, California</td>\n",
       "    </tr>\n",
       "    <tr>\n",
       "      <th>3</th>\n",
       "      <td>4</td>\n",
       "      <td>UnitedHealth Group</td>\n",
       "      <td>Healthcare</td>\n",
       "      <td>371,622</td>\n",
       "      <td>14.6%</td>\n",
       "      <td>440,000</td>\n",
       "      <td>Minnetonka, Minnesota</td>\n",
       "    </tr>\n",
       "    <tr>\n",
       "      <th>4</th>\n",
       "      <td>5</td>\n",
       "      <td>Berkshire Hathaway</td>\n",
       "      <td>Conglomerate</td>\n",
       "      <td>364,482</td>\n",
       "      <td>20.7%</td>\n",
       "      <td>396,500</td>\n",
       "      <td>Omaha, Nebraska</td>\n",
       "    </tr>\n",
       "  </tbody>\n",
       "</table>\n",
       "</div>"
      ],
      "text/plain": [
       "  rank                name                    industry revenue_usd_millions  \\\n",
       "0    1             Walmart                      Retail              648,125   \n",
       "1    2              Amazon  Retail and cloud computing              574,785   \n",
       "2    3               Apple        Electronics industry              383,482   \n",
       "3    4  UnitedHealth Group                  Healthcare              371,622   \n",
       "4    5  Berkshire Hathaway                Conglomerate              364,482   \n",
       "\n",
       "  revenue_growth  employees           headquarters  \n",
       "0           6.0%  2,100,000  Bentonville, Arkansas  \n",
       "1          11.9%  1,525,000    Seattle, Washington  \n",
       "2          -2.8%    161,000  Cupertino, California  \n",
       "3          14.6%    440,000  Minnetonka, Minnesota  \n",
       "4          20.7%    396,500        Omaha, Nebraska  "
      ]
     },
     "execution_count": 79,
     "metadata": {},
     "output_type": "execute_result"
    }
   ],
   "source": [
    "company_df = pd.DataFrame(final_table)\n",
    "company_df.head()"
   ]
  },
  {
   "cell_type": "markdown",
   "id": "28595fde-4ad3-4555-b916-d732e430d3de",
   "metadata": {},
   "source": [
    "### Manipulating dataframe using Pandas"
   ]
  },
  {
   "cell_type": "code",
   "execution_count": 80,
   "id": "8b9cf18c-df8b-45a4-beb1-144dae1b011c",
   "metadata": {},
   "outputs": [
    {
     "name": "stdout",
     "output_type": "stream",
     "text": [
      "Index(['rank', 'name', 'industry', 'revenue_usd_millions', 'revenue_growth',\n",
      "       'employees', 'headquarters'],\n",
      "      dtype='object')\n",
      "rank                    object\n",
      "name                    object\n",
      "industry                object\n",
      "revenue_usd_millions    object\n",
      "revenue_growth          object\n",
      "employees               object\n",
      "headquarters            object\n",
      "dtype: object\n"
     ]
    }
   ],
   "source": [
    "print(company_df.columns)\n",
    "print(company_df.dtypes)"
   ]
  },
  {
   "cell_type": "code",
   "execution_count": 81,
   "id": "2132a53d-bb59-4529-a4ca-d0782b896e94",
   "metadata": {},
   "outputs": [],
   "source": [
    "# creating two columns with city and state names\n",
    "company_df['city_name'] = company_df['headquarters'].apply(lambda hd_qtr: hd_qtr.split(',')[0])\n",
    "company_df['state_name'] = company_df['headquarters'].apply(lambda hd_qtr: hd_qtr.split(', ')[1])"
   ]
  },
  {
   "cell_type": "code",
   "execution_count": 82,
   "id": "51f5c014-457b-4d47-a892-6444acbe06d4",
   "metadata": {},
   "outputs": [
    {
     "data": {
      "text/html": [
       "<div>\n",
       "<style scoped>\n",
       "    .dataframe tbody tr th:only-of-type {\n",
       "        vertical-align: middle;\n",
       "    }\n",
       "\n",
       "    .dataframe tbody tr th {\n",
       "        vertical-align: top;\n",
       "    }\n",
       "\n",
       "    .dataframe thead th {\n",
       "        text-align: right;\n",
       "    }\n",
       "</style>\n",
       "<table border=\"1\" class=\"dataframe\">\n",
       "  <thead>\n",
       "    <tr style=\"text-align: right;\">\n",
       "      <th></th>\n",
       "      <th>rank</th>\n",
       "      <th>name</th>\n",
       "      <th>industry</th>\n",
       "      <th>revenue_usd_millions</th>\n",
       "      <th>revenue_growth</th>\n",
       "      <th>employees</th>\n",
       "      <th>headquarters</th>\n",
       "      <th>city_name</th>\n",
       "      <th>state_name</th>\n",
       "    </tr>\n",
       "  </thead>\n",
       "  <tbody>\n",
       "    <tr>\n",
       "      <th>0</th>\n",
       "      <td>1</td>\n",
       "      <td>Walmart</td>\n",
       "      <td>Retail</td>\n",
       "      <td>648,125</td>\n",
       "      <td>6.0%</td>\n",
       "      <td>2,100,000</td>\n",
       "      <td>Bentonville, Arkansas</td>\n",
       "      <td>Bentonville</td>\n",
       "      <td>Arkansas</td>\n",
       "    </tr>\n",
       "    <tr>\n",
       "      <th>1</th>\n",
       "      <td>2</td>\n",
       "      <td>Amazon</td>\n",
       "      <td>Retail and cloud computing</td>\n",
       "      <td>574,785</td>\n",
       "      <td>11.9%</td>\n",
       "      <td>1,525,000</td>\n",
       "      <td>Seattle, Washington</td>\n",
       "      <td>Seattle</td>\n",
       "      <td>Washington</td>\n",
       "    </tr>\n",
       "    <tr>\n",
       "      <th>2</th>\n",
       "      <td>3</td>\n",
       "      <td>Apple</td>\n",
       "      <td>Electronics industry</td>\n",
       "      <td>383,482</td>\n",
       "      <td>-2.8%</td>\n",
       "      <td>161,000</td>\n",
       "      <td>Cupertino, California</td>\n",
       "      <td>Cupertino</td>\n",
       "      <td>California</td>\n",
       "    </tr>\n",
       "    <tr>\n",
       "      <th>3</th>\n",
       "      <td>4</td>\n",
       "      <td>UnitedHealth Group</td>\n",
       "      <td>Healthcare</td>\n",
       "      <td>371,622</td>\n",
       "      <td>14.6%</td>\n",
       "      <td>440,000</td>\n",
       "      <td>Minnetonka, Minnesota</td>\n",
       "      <td>Minnetonka</td>\n",
       "      <td>Minnesota</td>\n",
       "    </tr>\n",
       "    <tr>\n",
       "      <th>4</th>\n",
       "      <td>5</td>\n",
       "      <td>Berkshire Hathaway</td>\n",
       "      <td>Conglomerate</td>\n",
       "      <td>364,482</td>\n",
       "      <td>20.7%</td>\n",
       "      <td>396,500</td>\n",
       "      <td>Omaha, Nebraska</td>\n",
       "      <td>Omaha</td>\n",
       "      <td>Nebraska</td>\n",
       "    </tr>\n",
       "  </tbody>\n",
       "</table>\n",
       "</div>"
      ],
      "text/plain": [
       "  rank                name                    industry revenue_usd_millions  \\\n",
       "0    1             Walmart                      Retail              648,125   \n",
       "1    2              Amazon  Retail and cloud computing              574,785   \n",
       "2    3               Apple        Electronics industry              383,482   \n",
       "3    4  UnitedHealth Group                  Healthcare              371,622   \n",
       "4    5  Berkshire Hathaway                Conglomerate              364,482   \n",
       "\n",
       "  revenue_growth  employees           headquarters    city_name  state_name  \n",
       "0           6.0%  2,100,000  Bentonville, Arkansas  Bentonville    Arkansas  \n",
       "1          11.9%  1,525,000    Seattle, Washington      Seattle  Washington  \n",
       "2          -2.8%    161,000  Cupertino, California    Cupertino  California  \n",
       "3          14.6%    440,000  Minnetonka, Minnesota   Minnetonka   Minnesota  \n",
       "4          20.7%    396,500        Omaha, Nebraska        Omaha    Nebraska  "
      ]
     },
     "execution_count": 82,
     "metadata": {},
     "output_type": "execute_result"
    }
   ],
   "source": [
    "company_df.head()"
   ]
  },
  {
   "cell_type": "code",
   "execution_count": 83,
   "id": "57600aa0-81e4-4b3f-9cb3-03057da2f2b3",
   "metadata": {},
   "outputs": [],
   "source": [
    "# converting data types of revenue_usd_millions\n",
    "company_df['revenue_usd_millions'] = \\\n",
    "company_df['revenue_usd_millions'].apply(lambda digit: int(digit.replace(',','')))\n",
    "\n",
    "# converting data types employees\n",
    "company_df['employees'] = \\\n",
    "company_df['employees'].apply(lambda digit: int(digit.replace(',','')))"
   ]
  },
  {
   "cell_type": "code",
   "execution_count": 84,
   "id": "eae95bf7-20be-442d-a795-3319c9e320a8",
   "metadata": {},
   "outputs": [
    {
     "data": {
      "text/html": [
       "<div>\n",
       "<style scoped>\n",
       "    .dataframe tbody tr th:only-of-type {\n",
       "        vertical-align: middle;\n",
       "    }\n",
       "\n",
       "    .dataframe tbody tr th {\n",
       "        vertical-align: top;\n",
       "    }\n",
       "\n",
       "    .dataframe thead th {\n",
       "        text-align: right;\n",
       "    }\n",
       "</style>\n",
       "<table border=\"1\" class=\"dataframe\">\n",
       "  <thead>\n",
       "    <tr style=\"text-align: right;\">\n",
       "      <th></th>\n",
       "      <th>rank</th>\n",
       "      <th>name</th>\n",
       "      <th>industry</th>\n",
       "      <th>revenue_usd_millions</th>\n",
       "      <th>revenue_growth</th>\n",
       "      <th>employees</th>\n",
       "      <th>headquarters</th>\n",
       "      <th>city_name</th>\n",
       "      <th>state_name</th>\n",
       "    </tr>\n",
       "  </thead>\n",
       "  <tbody>\n",
       "    <tr>\n",
       "      <th>0</th>\n",
       "      <td>1</td>\n",
       "      <td>Walmart</td>\n",
       "      <td>Retail</td>\n",
       "      <td>648125</td>\n",
       "      <td>6.0%</td>\n",
       "      <td>2100000</td>\n",
       "      <td>Bentonville, Arkansas</td>\n",
       "      <td>Bentonville</td>\n",
       "      <td>Arkansas</td>\n",
       "    </tr>\n",
       "    <tr>\n",
       "      <th>1</th>\n",
       "      <td>2</td>\n",
       "      <td>Amazon</td>\n",
       "      <td>Retail and cloud computing</td>\n",
       "      <td>574785</td>\n",
       "      <td>11.9%</td>\n",
       "      <td>1525000</td>\n",
       "      <td>Seattle, Washington</td>\n",
       "      <td>Seattle</td>\n",
       "      <td>Washington</td>\n",
       "    </tr>\n",
       "    <tr>\n",
       "      <th>2</th>\n",
       "      <td>3</td>\n",
       "      <td>Apple</td>\n",
       "      <td>Electronics industry</td>\n",
       "      <td>383482</td>\n",
       "      <td>-2.8%</td>\n",
       "      <td>161000</td>\n",
       "      <td>Cupertino, California</td>\n",
       "      <td>Cupertino</td>\n",
       "      <td>California</td>\n",
       "    </tr>\n",
       "    <tr>\n",
       "      <th>3</th>\n",
       "      <td>4</td>\n",
       "      <td>UnitedHealth Group</td>\n",
       "      <td>Healthcare</td>\n",
       "      <td>371622</td>\n",
       "      <td>14.6%</td>\n",
       "      <td>440000</td>\n",
       "      <td>Minnetonka, Minnesota</td>\n",
       "      <td>Minnetonka</td>\n",
       "      <td>Minnesota</td>\n",
       "    </tr>\n",
       "    <tr>\n",
       "      <th>4</th>\n",
       "      <td>5</td>\n",
       "      <td>Berkshire Hathaway</td>\n",
       "      <td>Conglomerate</td>\n",
       "      <td>364482</td>\n",
       "      <td>20.7%</td>\n",
       "      <td>396500</td>\n",
       "      <td>Omaha, Nebraska</td>\n",
       "      <td>Omaha</td>\n",
       "      <td>Nebraska</td>\n",
       "    </tr>\n",
       "  </tbody>\n",
       "</table>\n",
       "</div>"
      ],
      "text/plain": [
       "  rank                name                    industry  revenue_usd_millions  \\\n",
       "0    1             Walmart                      Retail                648125   \n",
       "1    2              Amazon  Retail and cloud computing                574785   \n",
       "2    3               Apple        Electronics industry                383482   \n",
       "3    4  UnitedHealth Group                  Healthcare                371622   \n",
       "4    5  Berkshire Hathaway                Conglomerate                364482   \n",
       "\n",
       "  revenue_growth  employees           headquarters    city_name  state_name  \n",
       "0           6.0%    2100000  Bentonville, Arkansas  Bentonville    Arkansas  \n",
       "1          11.9%    1525000    Seattle, Washington      Seattle  Washington  \n",
       "2          -2.8%     161000  Cupertino, California    Cupertino  California  \n",
       "3          14.6%     440000  Minnetonka, Minnesota   Minnetonka   Minnesota  \n",
       "4          20.7%     396500        Omaha, Nebraska        Omaha    Nebraska  "
      ]
     },
     "execution_count": 84,
     "metadata": {},
     "output_type": "execute_result"
    }
   ],
   "source": [
    "company_df.head()"
   ]
  },
  {
   "cell_type": "code",
   "execution_count": null,
   "id": "09190929-aea6-4886-ba9d-78e86ed3163b",
   "metadata": {},
   "outputs": [],
   "source": []
  }
 ],
 "metadata": {
  "kernelspec": {
   "display_name": "Python 3 (ipykernel)",
   "language": "python",
   "name": "python3"
  },
  "language_info": {
   "codemirror_mode": {
    "name": "ipython",
    "version": 3
   },
   "file_extension": ".py",
   "mimetype": "text/x-python",
   "name": "python",
   "nbconvert_exporter": "python",
   "pygments_lexer": "ipython3",
   "version": "3.11.7"
  }
 },
 "nbformat": 4,
 "nbformat_minor": 5
}
